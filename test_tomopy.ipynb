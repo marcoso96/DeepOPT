{
 "cells": [
  {
   "cell_type": "code",
   "execution_count": 2,
   "metadata": {},
   "outputs": [],
   "source": [
    "import tomopy\n",
    "import matplotlib.pyplot as plt\n",
    "import numpy as np\n",
    "import k3d\n",
    "# impoer resize 3D image\n",
    "from skimage.transform import resize\n",
    "import tifffile as tiff\n",
    "import glob\n",
    "import tqdm\n",
    "\n",
    "k3d.switch_to_text_protocol()\n",
    "def normalize_01(images):\n",
    "    return (images - images.min()) / (images.max() - images.min())"
   ]
  },
  {
   "cell_type": "code",
   "execution_count": 21,
   "metadata": {},
   "outputs": [
    {
     "name": "stderr",
     "output_type": "stream",
     "text": [
      "100%|██████████| 180/180 [00:30<00:00,  5.85it/s]\n"
     ]
    }
   ],
   "source": [
    "# read tif file\n",
    "import tifffile as tiff\n",
    "import glob\n",
    "import tqdm\n",
    "import os\n",
    "import cv2\n",
    "os.makedirs(\"/home/nhattm/ToMoDL/datasets/ctf_cut_10x\", exist_ok=True)\n",
    "resize_factor = 20\n",
    "file_names = sorted(glob.glob(\"/home/nhattm/ToMoDL/datasets/ctf/*.tif\"))\n",
    "sinos = []\n",
    "for file_name in tqdm.tqdm(file_names[::10]):\n",
    "    sino = tiff.imread(file_name)\n",
    "    sino = np.asarray(sino)\n",
    "    sino = sino.astype(np.float32)\n",
    "    # sino = sino[:1700, :]\n",
    "    # sino = cv2.resize(sino, (sino.shape[1]//resize_factor, sino.shape[0]//resize_factor))\n",
    "    sino = resize(sino, (sino.shape[0]//resize_factor, sino.shape[1]//resize_factor), anti_aliasing=True)\n",
    "    tiff.imwrite(f\"/home/nhattm/ToMoDL/datasets/ctf_cut_10x/{file_name.split('/')[-1]}\", sino)\n",
    "    sinos.append(sino)\n",
    "\n",
    "sinos = np.stack(sinos)"
   ]
  },
  {
   "cell_type": "code",
   "execution_count": 4,
   "metadata": {},
   "outputs": [
    {
     "name": "stderr",
     "output_type": "stream",
     "text": [
      "100%|██████████| 1800/1800 [05:10<00:00,  5.79it/s]\n"
     ]
    }
   ],
   "source": [
    "resize_factor = 20\n",
    "file_names = sorted(glob.glob(\"/home/nhattm/ToMoDL/datasets/ctf/*.tif\"))\n",
    "sinos = []\n",
    "for file_name in tqdm.tqdm(file_names):\n",
    "    sino = tiff.imread(file_name)\n",
    "    sino = np.asarray(sino)\n",
    "    # sino = sino[:, 50:-50]\n",
    "    # sino = normalize_01(sino)\n",
    "    sino = resize(sino, (sino.shape[0]//resize_factor, sino.shape[1]//resize_factor), anti_aliasing=True)\n",
    "    sinos.append(sino)\n",
    "\n",
    "sinos = np.stack(sinos)\n",
    "# sinos = normalize_01(sinos)"
   ]
  },
  {
   "cell_type": "code",
   "execution_count": 19,
   "metadata": {},
   "outputs": [
    {
     "name": "stderr",
     "output_type": "stream",
     "text": [
      "100%|██████████| 100/100 [00:00<00:00, 2781.79it/s]\n"
     ]
    }
   ],
   "source": [
    "# resize_factor = 2\n",
    "# file_names = sorted(glob.glob(\"/home/nhattm/ToMoDL/datasets/student_data/*\"))\n",
    "# sinos = []\n",
    "# for file_name in tqdm.tqdm(file_names):\n",
    "#     # read jpg file\n",
    "#     sino = plt.imread(file_name)\n",
    "#     sino = np.asarray(sino)\n",
    "#     # sino = sino[:, 50:-50]\n",
    "#     # sino = normalize_01(sino)\n",
    "#     # sino = resize(sino, (sino.shape[0] // resize_factor, sino.shape[1] // resize_factor), anti_aliasing=True)\n",
    "#     sinos.append(sino)\n",
    "\n",
    "# sinos = np.stack(sinos)"
   ]
  },
  {
   "cell_type": "code",
   "execution_count": 9,
   "metadata": {},
   "outputs": [
    {
     "data": {
      "text/plain": [
       "(-5.6836324, 0.9683472, (1800, 102, 102))"
      ]
     },
     "execution_count": 9,
     "metadata": {},
     "output_type": "execute_result"
    }
   ],
   "source": [
    "sinos.min(), sinos.max(), sinos.shape"
   ]
  },
  {
   "cell_type": "code",
   "execution_count": 6,
   "metadata": {},
   "outputs": [],
   "source": [
    "height, width = sinos.shape[1], sinos.shape[2]\n",
    "img = sinos[0]\n",
    "corner_size = int(min(height, width) * 0.03)\n",
    "\n",
    "# Extract the four corner regions (top-left, top-right, bottom-left, bottom-right)\n",
    "top_left = img[:corner_size, :corner_size]\n",
    "top_right = img[:corner_size, -corner_size:]\n",
    "bottom_left = img[-corner_size:, :corner_size]\n",
    "bottom_right = img[-corner_size:, -corner_size:]\n",
    "middle_left = img[height//2-corner_size//2:height//2+corner_size//2, :corner_size]\n",
    "middle_right = img[height//2-corner_size//2:height//2+corner_size//2, -corner_size:]\n",
    "corner_means = np.array([top_left.mean(), top_right.mean(), bottom_left.mean(), bottom_right.mean(), middle_left.mean(), middle_right.mean()])\n",
    "valid_corners = corner_means[(corner_means > np.percentile(corner_means, 10)) & (corner_means < np.percentile(corner_means, 90))]\n",
    "flat_field_estimate = valid_corners.mean()\n",
    "\n",
    "\n",
    "sinos_normalized = sinos / flat_field_estimate\n",
    "# sinos_normalized = normalize_01(sinos_normalized)\n",
    "# sinos_normalized = -np.log10(sinos_normalized +1e-4)\n",
    "sinos_normalized = normalize_01(sinos_normalized)"
   ]
  },
  {
   "cell_type": "code",
   "execution_count": 10,
   "metadata": {},
   "outputs": [
    {
     "data": {
      "text/plain": [
       "-0.21110722"
      ]
     },
     "execution_count": 10,
     "metadata": {},
     "output_type": "execute_result"
    }
   ],
   "source": [
    "flat_field_estimate"
   ]
  },
  {
   "cell_type": "code",
   "execution_count": 5,
   "metadata": {},
   "outputs": [],
   "source": [
    "sino2 = sinos / flat_field_estimate\n",
    "sino2 = normalize_01(sino2)"
   ]
  },
  {
   "cell_type": "code",
   "execution_count": 11,
   "metadata": {},
   "outputs": [
    {
     "data": {
      "text/plain": [
       "(0.0, 1.0)"
      ]
     },
     "execution_count": 11,
     "metadata": {},
     "output_type": "execute_result"
    }
   ],
   "source": [
    "sinos_normalized.min(), sinos_normalized.max()"
   ]
  },
  {
   "cell_type": "code",
   "execution_count": 22,
   "metadata": {},
   "outputs": [],
   "source": [
    "corner_size = int(min(height, width) * 0.03)"
   ]
  },
  {
   "cell_type": "code",
   "execution_count": 12,
   "metadata": {},
   "outputs": [
    {
     "data": {
      "image/png": "[encoded data removed]",
      "text/plain": [
       "<Figure size 640x480 with 1 Axes>"
      ]
     },
     "metadata": {},
     "output_type": "display_data"
    }
   ],
   "source": [
    "import matplotlib.patches as patches\n",
    "\n",
    "# Display the first sinogram\n",
    "fig, ax = plt.subplots(1)\n",
    "ax.imshow(sinos[0], cmap=\"gray\")\n",
    "\n",
    "# Draw rectangles around the corners\n",
    "rect_top_left = patches.Rectangle((0, 0), corner_size, corner_size, linewidth=1, edgecolor='r', facecolor='none')\n",
    "rect_top_right = patches.Rectangle((width - corner_size, 0), corner_size, corner_size, linewidth=1, edgecolor='r', facecolor='none')\n",
    "rect_bottom_left = patches.Rectangle((0, height - corner_size), corner_size, corner_size, linewidth=1, edgecolor='r', facecolor='none')\n",
    "rect_bottom_right = patches.Rectangle((width - corner_size, height - corner_size), corner_size, corner_size, linewidth=1, edgecolor='r', facecolor='none')\n",
    "rect_middle_left = patches.Rectangle((0, height//2 - corner_size//2), corner_size, corner_size, linewidth=1, edgecolor='r', facecolor='none')\n",
    "rect_middle_right = patches.Rectangle((width - corner_size, height//2 - corner_size//2), corner_size, corner_size, linewidth=1, edgecolor='r', facecolor='none')\n",
    "# Add the rectangles to the plot\n",
    "ax.add_patch(rect_top_left)\n",
    "ax.add_patch(rect_top_right)\n",
    "ax.add_patch(rect_bottom_left)\n",
    "ax.add_patch(rect_bottom_right)\n",
    "ax.add_patch(rect_middle_left)\n",
    "ax.add_patch(rect_middle_right)\n",
    "\n",
    "plt.show()\n"
   ]
  },
  {
   "cell_type": "code",
   "execution_count": 7,
   "metadata": {},
   "outputs": [
    {
     "ename": "NameError",
     "evalue": "name 'sino2' is not defined",
     "output_type": "error",
     "traceback": [
      "\u001b[0;31m---------------------------------------------------------------------------\u001b[0m",
      "\u001b[0;31mNameError\u001b[0m                                 Traceback (most recent call last)",
      "Cell \u001b[0;32mIn[7], line 1\u001b[0m\n\u001b[0;32m----> 1\u001b[0m plt\u001b[38;5;241m.\u001b[39mimshow(\u001b[43msino2\u001b[49m[\u001b[38;5;241m0\u001b[39m], cmap\u001b[38;5;241m=\u001b[39m\u001b[38;5;124m\"\u001b[39m\u001b[38;5;124mgray\u001b[39m\u001b[38;5;124m\"\u001b[39m)\n",
      "\u001b[0;31mNameError\u001b[0m: name 'sino2' is not defined"
     ]
    }
   ],
   "source": [
    "plt.imshow(sino2[0], cmap=\"gray\")"
   ]
  },
  {
   "cell_type": "code",
   "execution_count": 11,
   "metadata": {},
   "outputs": [
    {
     "data": {
      "text/plain": [
       "<matplotlib.image.AxesImage at 0x74c9779fba90>"
      ]
     },
     "execution_count": 11,
     "metadata": {},
     "output_type": "execute_result"
    },
    {
     "data": {
      "image/png": "[encoded data removed]",
      "text/plain": [
       "<Figure size 640x480 with 1 Axes>"
      ]
     },
     "metadata": {},
     "output_type": "display_data"
    }
   ],
   "source": [
    "plt.imshow(sinos_normalized[0], cmap=\"gray\")"
   ]
  },
  {
   "cell_type": "code",
   "execution_count": 17,
   "metadata": {},
   "outputs": [
    {
     "data": {
      "text/plain": [
       "(1800, 102, 102)"
      ]
     },
     "execution_count": 17,
     "metadata": {},
     "output_type": "execute_result"
    }
   ],
   "source": [
    "sinos_normalized.shape"
   ]
  },
  {
   "cell_type": "code",
   "execution_count": 19,
   "metadata": {},
   "outputs": [],
   "source": [
    "theta = tomopy.angles(sinos_normalized.shape[0])\n",
    "rec = tomopy.recon(sinos_normalized, theta, algorithm=\"gridrec\", filter_name=\"ramlak\")\n",
    "rec = tomopy.circ_mask(rec, axis=0, ratio=0.95)\n",
    "# rec = rec.max() - rec\n",
    "rec = (rec - rec.min()) / (rec.max() - rec.min())\n",
    "rec = rec * (2**16 - 1)\n",
    "rec = rec.astype(np.uint16)\n",
    "tiff.imwrite(\"/home/nhattm/tomopy_20x_gridrec.tif\", rec)"
   ]
  },
  {
   "cell_type": "code",
   "execution_count": 17,
   "metadata": {},
   "outputs": [
    {
     "data": {
      "text/plain": [
       "(0, 65535)"
      ]
     },
     "execution_count": 17,
     "metadata": {},
     "output_type": "execute_result"
    }
   ],
   "source": [
    "rec.min(), rec.max()"
   ]
  },
  {
   "cell_type": "code",
   "execution_count": 168,
   "metadata": {},
   "outputs": [],
   "source": [
    "# normalize the reconstruction from 0 to 255\n",
    "\n",
    "\n",
    "# save the reconstruction"
   ]
  },
  {
   "cell_type": "code",
   "execution_count": 20,
   "metadata": {},
   "outputs": [
    {
     "data": {
      "text/plain": [
       "Viewer(camera=Camera(center=(0.0, 50.5, 50.5), zoom=4.612094900330195, angles=(0.0, 0.0, 90.0), perspective=0.0, mouse_pan=True, mouse_zoom=True), cursor=Cursor(position=(50.0, 1.0, 0.0), scaled=True, size=1, style=<CursorStyle.STANDARD: 'standard'>), dims=Dims(ndim=3, ndisplay=2, last_used=0, range=((0.0, 102.0, 1.0), (0.0, 102.0, 1.0), (0.0, 102.0, 1.0)), current_step=(50, 50, 50), order=(0, 1, 2), axis_labels=('0', '1', '2')), grid=GridCanvas(stride=1, shape=(-1, -1), enabled=False), layers=[<Image layer 'rec' at 0x74c977310550>], help='use <2> for transform', status='Ready', tooltip=Tooltip(visible=False, text=''), theme='dark', title='napari', mouse_over_canvas=False, mouse_move_callbacks=[], mouse_drag_callbacks=[], mouse_double_click_callbacks=[], mouse_wheel_callbacks=[<function dims_scroll at 0x74c94c8a6dd0>], _persisted_mouse_event={}, _mouse_drag_gen={}, _mouse_wheel_gen={}, keymap={})"
      ]
     },
     "execution_count": 20,
     "metadata": {},
     "output_type": "execute_result"
    }
   ],
   "source": [
    "import napari\n",
    "from dask_image.imread import imread\n",
    "\n",
    "# stack = imread(\"/home/nhattm/opt_volume_filter.tif\")\n",
    "napari.view_image(rec)"
   ]
  },
  {
   "cell_type": "code",
   "execution_count": 10,
   "metadata": {},
   "outputs": [],
   "source": [
    "#save the reconstruction\n"
   ]
  },
  {
   "cell_type": "code",
   "execution_count": null,
   "metadata": {},
   "outputs": [],
   "source": [
    "rec.shape"
   ]
  },
  {
   "cell_type": "code",
   "execution_count": null,
   "metadata": {},
   "outputs": [],
   "source": [
    "#plot the reconstruction 3Dvolume with matplotlib\n",
    "plt.show(rec)"
   ]
  },
  {
   "cell_type": "code",
   "execution_count": null,
   "metadata": {},
   "outputs": [],
   "source": [
    "# import tifffile as tiff\n",
    "# import glob\n",
    "# import tqdm\n",
    "# from natsort import natsorted\n",
    "# from PIL import Image\n",
    "# file_names = natsorted(glob.glob(\"/home/nhattm/ToMoDL/datasets/student_data/*.jpg\"))\n",
    "# sinos = []\n",
    "# for file_name in tqdm.tqdm(file_names):\n",
    "#     sino = Image.open(file_name)\n",
    "#     sino = np.asarray(sino)\n",
    "#     sino = sino.astype(np.float32)\n",
    "#     sinos.append(sino)\n",
    "\n",
    "# sinos = np.stack(sinos)"
   ]
  },
  {
   "cell_type": "code",
   "execution_count": 136,
   "metadata": {},
   "outputs": [],
   "source": [
    "# sinos = tomopy.minus_log(sinos)\n"
   ]
  },
  {
   "cell_type": "code",
   "execution_count": null,
   "metadata": {},
   "outputs": [],
   "source": [
    "plt.imshow(sinos[:,100, :], cmap=\"gray\")\n",
    "plt.show()"
   ]
  },
  {
   "cell_type": "code",
   "execution_count": null,
   "metadata": {},
   "outputs": [],
   "source": [
    "extra_options = {'MinConstraint': 0}\n",
    "options = {\n",
    "    # 'proj_type': 'cuda',\n",
    "    # \"filter_name\": \"ramlak\",\n",
    "\n",
    "    # 'num_iter': 200,\n",
    "    # 'extra_options': extra_options,\n",
    "    # \"accelerated\": True\n",
    "}\n",
    "# rec = tomopy.recon(sinos,theta, algorithm=\"gridrec\",filter_name= \"ramlak\")\n",
    "batch_size = 1\n",
    "batch_start = 0\n",
    "batch_end = batch_start + batch_size\n",
    "recs = []\n",
    "while batch_end <= sinos.shape[0]:\n",
    "    rec = tomopy.recon(sinos[batch_start:batch_end],theta[batch_start:batch_end], algorithm=\"gridrec\",filter_name= \"ramlak\")\n",
    "    recs.append(rec)\n",
    "    batch_end = batch_start + batch_size\n",
    "    batch_start = batch_end\n",
    "    \n",
    "recs = np.stack(recs)"
   ]
  },
  {
   "cell_type": "code",
   "execution_count": null,
   "metadata": {},
   "outputs": [],
   "source": [
    "#save the reconstruction\n",
    "tiff.imwrite(\"reconstruction.tif\", rec)\n"
   ]
  },
  {
   "cell_type": "code",
   "execution_count": null,
   "metadata": {},
   "outputs": [],
   "source": [
    "# build a widget to show the reconstruction\n",
    "from ipywidgets import interact\n",
    "\n",
    "def show_recon(i):\n",
    "    plt.imshow(rec[i], cmap=\"gray\")\n",
    "    plt.show()\n",
    "\n",
    "interact(show_recon, i=(0, rec.shape[0]-1))"
   ]
  },
  {
   "cell_type": "code",
   "execution_count": 6,
   "metadata": {},
   "outputs": [],
   "source": [
    "\n",
    "# run this block again if nothing appear\n",
    "plt_volume = k3d.volume(rec.astype(np.float16),\n",
    "                        alpha_coef=5.,\n",
    "                        samples=128,\n",
    "                        ray_samples_count=4,\n",
    "                        interpolation=True,\n",
    "                        compression_level=9,\n",
    "                        )\n",
    "\n",
    "plot = k3d.plot()\n",
    "plot += plt_volume\n",
    "\n",
    "plot.display() # You can also just use 'plot'"
   ]
  },
  {
   "cell_type": "code",
   "execution_count": 2,
   "metadata": {},
   "outputs": [
    {
     "name": "stderr",
     "output_type": "stream",
     "text": [
      "<tifffile.TiffFile 'FBP_100.tif'> shaped series failed to reshape, raised ValueError('cannot reshape (1448, 1448) to (1700, 1448, 1448)')\n"
     ]
    }
   ],
   "source": [
    "# open tiff file with napari\n",
    "import tifffile as tiff\n",
    "tiff_file = \"/home/nhattm/FBP_100.tif\"\n",
    "tiff_file = tiff.imread(tiff_file)\n",
    "# import napari\n",
    "# viewer = napari.view_image(tiff_file)\n"
   ]
  },
  {
   "cell_type": "code",
   "execution_count": 3,
   "metadata": {},
   "outputs": [
    {
     "data": {
      "text/plain": [
       "(1448, 1448)"
      ]
     },
     "execution_count": 3,
     "metadata": {},
     "output_type": "execute_result"
    }
   ],
   "source": [
    "tiff_file.shape"
   ]
  },
  {
   "cell_type": "code",
   "execution_count": null,
   "metadata": {},
   "outputs": [],
   "source": []
  }
 ],
 "metadata": {
  "kernelspec": {
   "display_name": "tomodl",
   "language": "python",
   "name": "python3"
  },
  "language_info": {
   "codemirror_mode": {
    "name": "ipython",
    "version": 3
   },
   "file_extension": ".py",
   "mimetype": "text/x-python",
   "name": "python",
   "nbconvert_exporter": "python",
   "pygments_lexer": "ipython3",
   "version": "3.10.13"
  }
 },
 "nbformat": 4,
 "nbformat_minor": 2
}
