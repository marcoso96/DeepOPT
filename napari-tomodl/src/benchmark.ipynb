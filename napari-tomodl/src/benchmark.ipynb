{
 "cells": [
  {
   "cell_type": "code",
   "execution_count": 19,
   "metadata": {},
   "outputs": [],
   "source": [
    "from napari_tomodl.processors.OPTProcessor import OPTProcessor\n",
    "import numpy as np\n",
    "from enum import Enum\n",
    "import scipy.ndimage as ndi\n",
    "import time\n",
    "def min_max_normalize(image):\n",
    "    return (image - image.min()) / (image.max() - image.min()) * 255\n",
    "\n",
    "\n",
    "class Rec_modes(Enum):\n",
    "    FBP_CPU = 0\n",
    "    FBP_GPU = 1\n",
    "    TWIST_CPU = 2\n",
    "    UNET_GPU = 3\n",
    "    MODL_GPU = 4\n",
    "    MODL_CPU = 5\n",
    "\n",
    "\n",
    "class Order_Modes(Enum):\n",
    "    Vertical = 0\n",
    "    Horizontal = 1"
   ]
  },
  {
   "cell_type": "code",
   "execution_count": 20,
   "metadata": {},
   "outputs": [],
   "source": [
    "sino = np.zeros((100, 100, 100), dtype=np.float32) # angle, W, H\n",
    "opt_processor = OPTProcessor()\n",
    "opt_processor.resize_val = 100\n",
    "opt_processor.resize_bool = False\n",
    "opt_processor.register_bool = False\n",
    "opt_processor.rec_process = Rec_modes.FBP_CPU.value\n",
    "opt_processor.order_mode = Order_Modes.Vertical.value\n",
    "opt_processor.clip_to_circle = False\n",
    "opt_processor.use_filter = True\n",
    "opt_processor.batch_size = 1\n",
    "opt_processor.lambda_modl = 0.01"
   ]
  },
  {
   "cell_type": "code",
   "execution_count": 21,
   "metadata": {},
   "outputs": [],
   "source": [
    "def reconstruct(sinos, opt_processor, resize=False, \n",
    "                input_type=\"3D\", is_reconstruct_one=False,\n",
    "                fullvolume=True, slices=0, manualalignbox=False, alignbox=0):\n",
    "    \"\"\"\n",
    "    ToDO: Link projections\n",
    "    \"\"\"\n",
    "\n",
    "\n",
    "    sinos = np.moveaxis(sinos, 1, 2)\n",
    "    opt_processor.theta, opt_processor.Q, opt_processor.Z = sinos.shape\n",
    "\n",
    "\n",
    "    if resize == True:\n",
    "\n",
    "        optVolume = np.zeros([opt_processor.resize_val, opt_processor.resize_val, opt_processor.Z], np.float32)\n",
    "        sinos = opt_processor.resize(sinos, type_sino=input_type)\n",
    "\n",
    "    elif opt_processor.clip_to_circle == False:\n",
    "        optVolume = np.zeros(\n",
    "            [int(np.floor(opt_processor.Q / np.sqrt(2))), int(np.floor(opt_processor.Q / np.sqrt(2))), opt_processor.Z], np.float32\n",
    "        )\n",
    "    else:\n",
    "        optVolume = np.zeros([opt_processor.Q, opt_processor.Q, opt_processor.Z], np.float32)\n",
    "\n",
    "    # Reconstruction process\n",
    "    # if reconstructing only one slice\n",
    "    if is_reconstruct_one == True and fullvolume == False and input_type == \"3D\":\n",
    "        slices_reconstruction = [slices]\n",
    "    # if reconstructing full volume or multiple slices\n",
    "    elif input_type == \"3D\":\n",
    "        slices_reconstruction = range(opt_processor.Z if fullvolume == True else slices)\n",
    "    else:\n",
    "        slices_reconstruction = [0]\n",
    "\n",
    "    batch_start = slices_reconstruction[0]\n",
    "    # if use GPU process in batch to improve performance\n",
    "    if opt_processor.rec_process in {Rec_modes.FBP_GPU.value, Rec_modes.MODL_GPU.value, Rec_modes.UNET_GPU.value}:\n",
    "        batch_process = opt_processor.batch_size\n",
    "    else:\n",
    "        batch_process = 1\n",
    "\n",
    "    batch_end = batch_start + batch_process\n",
    "    # add progressBar to track the reconstruction process\n",
    "    time_in = time.time()\n",
    "    while batch_start <= slices_reconstruction[-1]:\n",
    "        print(\"Reconstructing slices {} to {}\".format(batch_start, batch_end), end=\"\\r\")\n",
    "        zidx = slice(batch_start, batch_end)\n",
    "        ####################### stacks reconstruction ############################\n",
    "        if input_type == \"3D\":\n",
    "            if opt_processor.register_bool == True:\n",
    "\n",
    "                # sinos[:, :, zidx] = cv2.normalize(\n",
    "                #     sinos[:, :, zidx], None, alpha=0, beta=255, norm_type=cv2.NORM_MINMAX, dtype=cv2.CV_32F\n",
    "                # )\n",
    "                sinos[:, :, zidx] = min_max_normalize(sinos[:, :, zidx])\n",
    "                if opt_processor.order_mode == 0:\n",
    "                    optVolume[:, :, zidx] = opt_processor.correct_and_reconstruct(sinos[:, :, zidx].transpose(1, 0, 2))\n",
    "                elif opt_processor.order_mode == 1:\n",
    "                    optVolume[:, :, zidx] = opt_processor.correct_and_reconstruct(sinos[:, :, zidx])\n",
    "                sinos[:, :, zidx] = min_max_normalize(sinos[:, :, zidx])\n",
    "\n",
    "            elif manualalignbox == True:\n",
    "                sinos[:, :, zidx] = min_max_normalize(sinos[:, :, zidx])\n",
    "                if opt_processor.order_mode == 0:\n",
    "                    optVolume[:, :, zidx] = opt_processor.reconstruct(\n",
    "                        ndi.shift(sinos[:, :, zidx], (0, alignbox, 0), mode=\"nearest\").transpose(\n",
    "                            1, 0, 2\n",
    "                        )\n",
    "                    )\n",
    "                elif opt_processor.order_mode == 1:\n",
    "                    optVolume[:, :, zidx] = opt_processor.reconstruct(\n",
    "                        ndi.shift(sinos[:, :, zidx], (alignbox, 0, 0), mode=\"nearest\")\n",
    "                    )\n",
    "                sinos[:, :, zidx] = min_max_normalize(sinos[:, :, zidx])\n",
    "\n",
    "            else:\n",
    "                sinos[:, :, zidx] = min_max_normalize(sinos[:, :, zidx])\n",
    "                if opt_processor.order_mode == 0:\n",
    "                    optVolume[:, :, zidx] = opt_processor.reconstruct(sinos[:, :, zidx].transpose(1, 0, 2))\n",
    "\n",
    "                elif  opt_processor.order_mode == 1:\n",
    "                    optVolume[:, :, zidx] = opt_processor.reconstruct(sinos[:, :, zidx])\n",
    "                sinos[:, :, zidx] = min_max_normalize(sinos[:, :, zidx])\n",
    "\n",
    "        ####################### 2D reconstruction ############################\n",
    "        elif input_type == \"2D\":\n",
    "            if opt_processor.register_bool == True:\n",
    "                optVolume[:, :, zidx] = opt_processor.correct_and_reconstruct(sinos[:, :, zidx])\n",
    "\n",
    "            elif manualalignbox == True:\n",
    "                optVolume[:, :, zidx] = opt_processor.reconstruct(\n",
    "                    ndi.shift(sinos[:, :, zidx], (alignbox, 0, 0), mode=\"nearest\")\n",
    "                )\n",
    "            else:\n",
    "                optVolume[:, :, zidx] = opt_processor.reconstruct(sinos[:, :, zidx])\n",
    "\n",
    "        batch_start = batch_end\n",
    "        batch_end += batch_process\n",
    "    print(\"Computation time total: {} s\".format(round(time.time() - time_in, 3)))\n",
    "\n",
    "    if is_reconstruct_one == True and fullvolume == False and input_type == \"3D\":\n",
    "        return optVolume[..., slices]\n",
    "    elif input_type == \"3D\":\n",
    "        return np.rollaxis(optVolume, -1)\n",
    "    else:\n",
    "        return optVolume[..., 0]"
   ]
  },
  {
   "cell_type": "code",
   "execution_count": 22,
   "metadata": {},
   "outputs": [],
   "source": [
    "# shape of the sinogram  angle, W, H\n",
    "sinogram = np.zeros((400, 100, 200))\n"
   ]
  },
  {
   "cell_type": "code",
   "execution_count": 23,
   "metadata": {},
   "outputs": [
    {
     "name": "stdout",
     "output_type": "stream",
     "text": [
      "Reconstructing slices 0 to 1\r"
     ]
    },
    {
     "name": "stderr",
     "output_type": "stream",
     "text": [
      "C:\\Users\\Predator\\AppData\\Local\\Temp\\ipykernel_18876\\4220327519.py:7: RuntimeWarning: invalid value encountered in divide\n",
      "  return (image - image.min()) / (image.max() - image.min()) * 255\n"
     ]
    },
    {
     "name": "stdout",
     "output_type": "stream",
     "text": [
      "Reconstructing slices 90 to 91\r"
     ]
    },
    {
     "ename": "KeyboardInterrupt",
     "evalue": "",
     "output_type": "error",
     "traceback": [
      "\u001b[1;31m---------------------------------------------------------------------------\u001b[0m",
      "\u001b[1;31mKeyboardInterrupt\u001b[0m                         Traceback (most recent call last)",
      "Cell \u001b[1;32mIn[23], line 1\u001b[0m\n\u001b[1;32m----> 1\u001b[0m opt_volume \u001b[38;5;241m=\u001b[39m \u001b[43mreconstruct\u001b[49m\u001b[43m(\u001b[49m\u001b[43msinogram\u001b[49m\u001b[43m,\u001b[49m\u001b[43m \u001b[49m\u001b[43mopt_processor\u001b[49m\u001b[43m)\u001b[49m\n",
      "Cell \u001b[1;32mIn[21], line 79\u001b[0m, in \u001b[0;36mreconstruct\u001b[1;34m(sinos, opt_processor, resize, input_type, is_reconstruct_one, fullvolume, slices, manualalignbox, alignbox)\u001b[0m\n\u001b[0;32m     77\u001b[0m sinos[:, :, zidx] \u001b[38;5;241m=\u001b[39m min_max_normalize(sinos[:, :, zidx])\n\u001b[0;32m     78\u001b[0m \u001b[38;5;28;01mif\u001b[39;00m opt_processor\u001b[38;5;241m.\u001b[39morder_mode \u001b[38;5;241m==\u001b[39m \u001b[38;5;241m0\u001b[39m:\n\u001b[1;32m---> 79\u001b[0m     optVolume[:, :, zidx] \u001b[38;5;241m=\u001b[39m \u001b[43mopt_processor\u001b[49m\u001b[38;5;241;43m.\u001b[39;49m\u001b[43mreconstruct\u001b[49m\u001b[43m(\u001b[49m\u001b[43msinos\u001b[49m\u001b[43m[\u001b[49m\u001b[43m:\u001b[49m\u001b[43m,\u001b[49m\u001b[43m \u001b[49m\u001b[43m:\u001b[49m\u001b[43m,\u001b[49m\u001b[43m \u001b[49m\u001b[43mzidx\u001b[49m\u001b[43m]\u001b[49m\u001b[38;5;241;43m.\u001b[39;49m\u001b[43mtranspose\u001b[49m\u001b[43m(\u001b[49m\u001b[38;5;241;43m1\u001b[39;49m\u001b[43m,\u001b[49m\u001b[43m \u001b[49m\u001b[38;5;241;43m0\u001b[39;49m\u001b[43m,\u001b[49m\u001b[43m \u001b[49m\u001b[38;5;241;43m2\u001b[39;49m\u001b[43m)\u001b[49m\u001b[43m)\u001b[49m\n\u001b[0;32m     81\u001b[0m \u001b[38;5;28;01melif\u001b[39;00m  opt_processor\u001b[38;5;241m.\u001b[39morder_mode \u001b[38;5;241m==\u001b[39m \u001b[38;5;241m1\u001b[39m:\n\u001b[0;32m     82\u001b[0m     optVolume[:, :, zidx] \u001b[38;5;241m=\u001b[39m opt_processor\u001b[38;5;241m.\u001b[39mreconstruct(sinos[:, :, zidx])\n",
      "File \u001b[1;32md:\\ToMoDL\\napari-tomodl\\src\\napari_tomodl\\processors\\OPTProcessor.py:882\u001b[0m, in \u001b[0;36mOPTProcessor.reconstruct\u001b[1;34m(self, sinogram)\u001b[0m\n\u001b[0;32m    878\u001b[0m         \u001b[38;5;28;01mreturn\u001b[39;00m output\u001b[38;5;241m.\u001b[39mtranspose(\u001b[38;5;241m1\u001b[39m, \u001b[38;5;241m2\u001b[39m, \u001b[38;5;241m3\u001b[39m, \u001b[38;5;241m0\u001b[39m)[\u001b[38;5;241m0\u001b[39m]\n\u001b[0;32m    880\u001b[0m     \u001b[38;5;28mself\u001b[39m\u001b[38;5;241m.\u001b[39miradon_function \u001b[38;5;241m=\u001b[39m _iradon\n\u001b[1;32m--> 882\u001b[0m reconstruction \u001b[38;5;241m=\u001b[39m \u001b[38;5;28;43mself\u001b[39;49m\u001b[38;5;241;43m.\u001b[39;49m\u001b[43miradon_function\u001b[49m\u001b[43m(\u001b[49m\u001b[43msinogram\u001b[49m\u001b[43m)\u001b[49m\n\u001b[0;32m    884\u001b[0m \u001b[38;5;28;01mreturn\u001b[39;00m reconstruction\n",
      "File \u001b[1;32md:\\ToMoDL\\napari-tomodl\\src\\napari_tomodl\\processors\\OPTProcessor.py:715\u001b[0m, in \u001b[0;36mOPTProcessor.reconstruct.<locals>.<lambda>\u001b[1;34m(sino)\u001b[0m\n\u001b[0;32m    712\u001b[0m     \u001b[38;5;28mself\u001b[39m\u001b[38;5;241m.\u001b[39miradon_function \u001b[38;5;241m=\u001b[39m _iradon\n\u001b[0;32m    714\u001b[0m \u001b[38;5;28;01melif\u001b[39;00m \u001b[38;5;28mself\u001b[39m\u001b[38;5;241m.\u001b[39mrec_process \u001b[38;5;241m==\u001b[39m Rec_Modes\u001b[38;5;241m.\u001b[39mFBP_CPU\u001b[38;5;241m.\u001b[39mvalue:\n\u001b[1;32m--> 715\u001b[0m     \u001b[38;5;28mself\u001b[39m\u001b[38;5;241m.\u001b[39miradon_function \u001b[38;5;241m=\u001b[39m \u001b[38;5;28;01mlambda\u001b[39;00m sino: \u001b[43miradon_scikit\u001b[49m\u001b[43m(\u001b[49m\n\u001b[0;32m    716\u001b[0m \u001b[43m        \u001b[49m\u001b[43msino\u001b[49m\u001b[43m[\u001b[49m\u001b[38;5;241;43m.\u001b[39;49m\u001b[38;5;241;43m.\u001b[39;49m\u001b[38;5;241;43m.\u001b[39;49m\u001b[43m,\u001b[49m\u001b[43m \u001b[49m\u001b[38;5;241;43m0\u001b[39;49m\u001b[43m]\u001b[49m\u001b[43m,\u001b[49m\n\u001b[0;32m    717\u001b[0m \u001b[43m        \u001b[49m\u001b[38;5;28;43mself\u001b[39;49m\u001b[38;5;241;43m.\u001b[39;49m\u001b[43mangles\u001b[49m\u001b[43m,\u001b[49m\n\u001b[0;32m    718\u001b[0m \u001b[43m        \u001b[49m\u001b[43mcircle\u001b[49m\u001b[38;5;241;43m=\u001b[39;49m\u001b[38;5;28;43mself\u001b[39;49m\u001b[38;5;241;43m.\u001b[39;49m\u001b[43mclip_to_circle\u001b[49m\u001b[43m,\u001b[49m\n\u001b[0;32m    719\u001b[0m \u001b[43m        \u001b[49m\u001b[43mfilter_name\u001b[49m\u001b[38;5;241;43m=\u001b[39;49m\u001b[38;5;28;43;01mNone\u001b[39;49;00m\u001b[43m \u001b[49m\u001b[38;5;28;43;01mif\u001b[39;49;00m\u001b[43m \u001b[49m\u001b[38;5;28;43mself\u001b[39;49m\u001b[38;5;241;43m.\u001b[39;49m\u001b[43muse_filter\u001b[49m\u001b[43m \u001b[49m\u001b[38;5;241;43m==\u001b[39;49m\u001b[43m \u001b[49m\u001b[38;5;28;43;01mFalse\u001b[39;49;00m\u001b[43m \u001b[49m\u001b[38;5;28;43;01melse\u001b[39;49;00m\u001b[43m \u001b[49m\u001b[38;5;124;43m\"\u001b[39;49m\u001b[38;5;124;43mramp\u001b[39;49m\u001b[38;5;124;43m\"\u001b[39;49m\u001b[43m,\u001b[49m\n\u001b[0;32m    720\u001b[0m \u001b[43m    \u001b[49m\u001b[43m)\u001b[49m[\u001b[38;5;241m.\u001b[39m\u001b[38;5;241m.\u001b[39m\u001b[38;5;241m.\u001b[39m, \u001b[38;5;28;01mNone\u001b[39;00m]\n\u001b[0;32m    722\u001b[0m \u001b[38;5;28;01melif\u001b[39;00m \u001b[38;5;28mself\u001b[39m\u001b[38;5;241m.\u001b[39mrec_process \u001b[38;5;241m==\u001b[39m Rec_Modes\u001b[38;5;241m.\u001b[39mMODL_GPU\u001b[38;5;241m.\u001b[39mvalue:\n\u001b[0;32m    724\u001b[0m     resnet_options_dict \u001b[38;5;241m=\u001b[39m {\n\u001b[0;32m    725\u001b[0m         \u001b[38;5;124m\"\u001b[39m\u001b[38;5;124mnumber_layers\u001b[39m\u001b[38;5;124m\"\u001b[39m: \u001b[38;5;241m8\u001b[39m,\n\u001b[0;32m    726\u001b[0m         \u001b[38;5;124m\"\u001b[39m\u001b[38;5;124mkernel_size\u001b[39m\u001b[38;5;124m\"\u001b[39m: \u001b[38;5;241m3\u001b[39m,\n\u001b[1;32m   (...)\u001b[0m\n\u001b[0;32m    732\u001b[0m         \u001b[38;5;124m\"\u001b[39m\u001b[38;5;124minit_method\u001b[39m\u001b[38;5;124m\"\u001b[39m: \u001b[38;5;124m\"\u001b[39m\u001b[38;5;124mxavier\u001b[39m\u001b[38;5;124m\"\u001b[39m,\n\u001b[0;32m    733\u001b[0m     }\n",
      "File \u001b[1;32md:\\anaconda3\\envs\\radon\\lib\\site-packages\\skimage\\transform\\radon_transform.py:317\u001b[0m, in \u001b[0;36miradon\u001b[1;34m(radon_image, theta, output_size, filter_name, interpolation, circle, preserve_range)\u001b[0m\n\u001b[0;32m    313\u001b[0m     \u001b[38;5;28;01melse\u001b[39;00m:\n\u001b[0;32m    314\u001b[0m         interpolant \u001b[38;5;241m=\u001b[39m interp1d(\n\u001b[0;32m    315\u001b[0m             x, col, kind\u001b[38;5;241m=\u001b[39minterpolation, bounds_error\u001b[38;5;241m=\u001b[39m\u001b[38;5;28;01mFalse\u001b[39;00m, fill_value\u001b[38;5;241m=\u001b[39m\u001b[38;5;241m0\u001b[39m\n\u001b[0;32m    316\u001b[0m         )\n\u001b[1;32m--> 317\u001b[0m     reconstructed \u001b[38;5;241m+\u001b[39m\u001b[38;5;241m=\u001b[39m \u001b[43minterpolant\u001b[49m\u001b[43m(\u001b[49m\u001b[43mt\u001b[49m\u001b[43m)\u001b[49m\n\u001b[0;32m    319\u001b[0m \u001b[38;5;28;01mif\u001b[39;00m circle:\n\u001b[0;32m    320\u001b[0m     out_reconstruction_circle \u001b[38;5;241m=\u001b[39m (xpr\u001b[38;5;241m*\u001b[39m\u001b[38;5;241m*\u001b[39m\u001b[38;5;241m2\u001b[39m \u001b[38;5;241m+\u001b[39m ypr\u001b[38;5;241m*\u001b[39m\u001b[38;5;241m*\u001b[39m\u001b[38;5;241m2\u001b[39m) \u001b[38;5;241m>\u001b[39m radius\u001b[38;5;241m*\u001b[39m\u001b[38;5;241m*\u001b[39m\u001b[38;5;241m2\u001b[39m\n",
      "File \u001b[1;32md:\\anaconda3\\envs\\radon\\lib\\site-packages\\numpy\\lib\\function_base.py:1599\u001b[0m, in \u001b[0;36minterp\u001b[1;34m(x, xp, fp, left, right, period)\u001b[0m\n\u001b[0;32m   1596\u001b[0m     xp \u001b[38;5;241m=\u001b[39m np\u001b[38;5;241m.\u001b[39mconcatenate((xp[\u001b[38;5;241m-\u001b[39m\u001b[38;5;241m1\u001b[39m:]\u001b[38;5;241m-\u001b[39mperiod, xp, xp[\u001b[38;5;241m0\u001b[39m:\u001b[38;5;241m1\u001b[39m]\u001b[38;5;241m+\u001b[39mperiod))\n\u001b[0;32m   1597\u001b[0m     fp \u001b[38;5;241m=\u001b[39m np\u001b[38;5;241m.\u001b[39mconcatenate((fp[\u001b[38;5;241m-\u001b[39m\u001b[38;5;241m1\u001b[39m:], fp, fp[\u001b[38;5;241m0\u001b[39m:\u001b[38;5;241m1\u001b[39m]))\n\u001b[1;32m-> 1599\u001b[0m \u001b[38;5;28;01mreturn\u001b[39;00m \u001b[43minterp_func\u001b[49m\u001b[43m(\u001b[49m\u001b[43mx\u001b[49m\u001b[43m,\u001b[49m\u001b[43m \u001b[49m\u001b[43mxp\u001b[49m\u001b[43m,\u001b[49m\u001b[43m \u001b[49m\u001b[43mfp\u001b[49m\u001b[43m,\u001b[49m\u001b[43m \u001b[49m\u001b[43mleft\u001b[49m\u001b[43m,\u001b[49m\u001b[43m \u001b[49m\u001b[43mright\u001b[49m\u001b[43m)\u001b[49m\n",
      "\u001b[1;31mKeyboardInterrupt\u001b[0m: "
     ]
    }
   ],
   "source": [
    "opt_volume = reconstruct(sinogram, opt_processor)"
   ]
  },
  {
   "cell_type": "code",
   "execution_count": null,
   "metadata": {},
   "outputs": [],
   "source": []
  }
 ],
 "metadata": {
  "kernelspec": {
   "display_name": "tomodl",
   "language": "python",
   "name": "python3"
  },
  "language_info": {
   "codemirror_mode": {
    "name": "ipython",
    "version": 3
   },
   "file_extension": ".py",
   "mimetype": "text/x-python",
   "name": "python",
   "nbconvert_exporter": "python",
   "pygments_lexer": "ipython3",
   "version": "undefined.undefined.undefined"
  }
 },
 "nbformat": 4,
 "nbformat_minor": 2
}
